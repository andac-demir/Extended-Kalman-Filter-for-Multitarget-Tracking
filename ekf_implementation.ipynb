{
 "cells": [
  {
   "cell_type": "markdown",
   "metadata": {},
   "source": [
    "# Extended Kalman Filter Implementation for State Estimation"
   ]
  },
  {
   "cell_type": "code",
   "execution_count": 1,
   "metadata": {},
   "outputs": [],
   "source": [
    "%matplotlib inline"
   ]
  },
  {
   "cell_type": "code",
   "execution_count": 2,
   "metadata": {},
   "outputs": [],
   "source": [
    "from IPython.core.debugger import set_trace\n",
    "import numpy as np\n",
    "from numpy.linalg import inv\n",
    "import matplotlib.pyplot as plt\n",
    "import seaborn as sns\n",
    "from celluloid import Camera\n",
    "from sympy import Symbol, symbols, Matrix, sqrt, atan2\n",
    "from sympy import init_printing\n",
    "import math\n",
    "from sklearn.metrics import mean_squared_error as mse\n",
    "init_printing(use_latex=True)"
   ]
  },
  {
   "cell_type": "markdown",
   "metadata": {},
   "source": [
    "## Visualize True States - Scenario Simulation"
   ]
  },
  {
   "cell_type": "code",
   "execution_count": 3,
   "metadata": {
    "scrolled": true
   },
   "outputs": [],
   "source": [
    "# Define initial positions (x, y) in m:\n",
    "pos_egoCar = (0, 0)\n",
    "pos_actor1 = (30, -3)\n",
    "pos_actor2 = (60, 3)\n",
    "pos_actor3 = (-40, -3)\n",
    "pos_actor4 = (-10, 0)\n",
    "num_actors = 4\n",
    "\n",
    "# Define the initial velocities (x-axis) in m/s:\n",
    "vel_egoCar = 20\n",
    "vel_actor1 = 20\n",
    "vel_actor2 = 20\n",
    "vel_actor3 = 20\n",
    "vel_actor4 = 20\n",
    "\n",
    "pos_list = [pos_egoCar, pos_actor1, pos_actor2, pos_actor3, pos_actor4]\n",
    "vel_list = [vel_egoCar, vel_actor1, vel_actor2, vel_actor3, vel_actor4]\n",
    "ego_positions = [] #position of the ego car in the entire simulation time frame\n",
    "true_states_alltimes = [] #state vectors (x,vel_x, y, vel_y) of all cars for each time step\n",
    "simulation_duration = 100\n",
    "dt = 1/4\n",
    "\n",
    "def get_state(initial_pos, vel, t):\n",
    "    '''\n",
    "    x = x_0 + v_i*t\n",
    "    '''\n",
    "    state = np.zeros((4,1))\n",
    "    state[1] = initial_pos[1]\n",
    "    state[3] = 0\n",
    "    state[0] = initial_pos[0] + vel * t\n",
    "    state[2] = vel\n",
    "    return state\n",
    "\n",
    "def display_true_states(pos_list, vel_list, simulation_duration, dt):\n",
    "    sns.set_style(\"white\")\n",
    "    my_dpi=96\n",
    "    camera = Camera(plt.figure(figsize=(480/my_dpi, 600/my_dpi), dpi=my_dpi))\n",
    "    cols = ['green', 'red', 'blue', 'black', 'orange']\n",
    "    for t in range(0, simulation_duration, 1):\n",
    "        true_state_at_time = []\n",
    "        plt.axvline(1, linestyle='--', color='grey')\n",
    "        plt.axvline(-1, linestyle='--', color='grey')\n",
    "        for idx, (pos, vel) in enumerate(zip(pos_list, vel_list)):\n",
    "            state = get_state(pos, vel, dt * t)\n",
    "            plt.scatter(state[1,0], state[0,0], color=cols[idx], alpha=0.5, \n",
    "                        edgecolors=\"grey\", linewidth=2)\n",
    "            true_state_at_time.append(state)\n",
    "            if idx == 0:\n",
    "                ego_positions.append(np.array([state[0], state[1]]))\n",
    "\n",
    "        true_states_alltimes.append(true_state_at_time)\n",
    "        camera.snap()\n",
    "\n",
    "    anim = camera.animate(blit=True)\n",
    "    anim.save('true_states.mp4')"
   ]
  },
  {
   "cell_type": "code",
   "execution_count": 4,
   "metadata": {},
   "outputs": [
    {
     "data": {
      "image/png": "[encoded data removed]",
      "text/plain": [
       "<Figure size 480x600 with 1 Axes>"
      ]
     },
     "metadata": {},
     "output_type": "display_data"
    }
   ],
   "source": [
    "display_true_states(pos_list, vel_list, simulation_duration, dt)"
   ]
  },
  {
   "cell_type": "markdown",
   "metadata": {},
   "source": [
    "## Dynamic Process and EKF Modeling"
   ]
  },
  {
   "cell_type": "code",
   "execution_count": 5,
   "metadata": {},
   "outputs": [],
   "source": [
    "# y-axis in the coordinate reference frame of the ego is the x-axis in scenario, and vice versa.\n",
    "x, y, rad, theta, time_step, vel_x, vel_y = symbols('x y r \\Theta T \\dot{x} \\dot{y}')\n",
    "\n",
    "# u1 and u2 are random samples drawn from N(0, var_{a}) representing an unknown acceleration.\n",
    "var_acc = 0.001**2\n",
    "u1 = np.random.normal(0, var_acc)\n",
    "u2 = np.random.normal(0, var_acc)\n",
    "\n",
    "F = Matrix([[x + vel_x*time_step],\n",
    "            [y + vel_y*time_step],\n",
    "            [vel_x + u1],\n",
    "            [vel_y + u2]])\n",
    "state = Matrix([x, y, vel_x, vel_y])"
   ]
  },
  {
   "cell_type": "markdown",
   "metadata": {},
   "source": [
    "## State"
   ]
  },
  {
   "cell_type": "code",
   "execution_count": 6,
   "metadata": {},
   "outputs": [
    {
     "data": {
      "image/png": "[encoded data removed]",
      "text/latex": [
       "$\\displaystyle \\left[\\begin{matrix}x\\\\y\\\\\\dot{x}\\\\\\dot{y}\\end{matrix}\\right]$"
      ],
      "text/plain": [
       "⎡   x   ⎤\n",
       "⎢       ⎥\n",
       "⎢   y   ⎥\n",
       "⎢       ⎥\n",
       "⎢\\dot{x}⎥\n",
       "⎢       ⎥\n",
       "⎣\\dot{y}⎦"
      ]
     },
     "execution_count": 6,
     "metadata": {},
     "output_type": "execute_result"
    }
   ],
   "source": [
    "state"
   ]
  },
  {
   "cell_type": "markdown",
   "metadata": {},
   "source": [
    "## State Transition Matrix"
   ]
  },
  {
   "cell_type": "code",
   "execution_count": 7,
   "metadata": {},
   "outputs": [
    {
     "data": {
      "image/png": "[encoded data removed]",
      "text/latex": [
       "$\\displaystyle \\left[\\begin{matrix}T \\dot{x} + x\\\\T \\dot{y} + y\\\\\\dot{x} + 1.10087095015793 \\cdot 10^{-7}\\\\\\dot{y} + 8.47409013744953 \\cdot 10^{-7}\\end{matrix}\\right]$"
      ],
      "text/plain": [
       "⎡        T⋅\\dot{x} + x        ⎤\n",
       "⎢                             ⎥\n",
       "⎢        T⋅\\dot{y} + y        ⎥\n",
       "⎢                             ⎥\n",
       "⎢\\dot{x} + 1.10087095015793e-7⎥\n",
       "⎢                             ⎥\n",
       "⎣\\dot{y} + 8.47409013744953e-7⎦"
      ]
     },
     "execution_count": 7,
     "metadata": {},
     "output_type": "execute_result"
    }
   ],
   "source": [
    "F"
   ]
  },
  {
   "cell_type": "markdown",
   "metadata": {},
   "source": [
    "## Jacobian of the State Transition Matrix"
   ]
  },
  {
   "cell_type": "code",
   "execution_count": 8,
   "metadata": {},
   "outputs": [
    {
     "data": {
      "image/png": "[encoded data removed]",
      "text/latex": [
       "$\\displaystyle \\left[\\begin{matrix}1 & 0 & T & 0\\\\0 & 1 & 0 & T\\\\0 & 0 & 1 & 0\\\\0 & 0 & 0 & 1\\end{matrix}\\right]$"
      ],
      "text/plain": [
       "⎡1  0  T  0⎤\n",
       "⎢          ⎥\n",
       "⎢0  1  0  T⎥\n",
       "⎢          ⎥\n",
       "⎢0  0  1  0⎥\n",
       "⎢          ⎥\n",
       "⎣0  0  0  1⎦"
      ]
     },
     "execution_count": 8,
     "metadata": {},
     "output_type": "execute_result"
    }
   ],
   "source": [
    "# Point-wise linear approximation of the function f near the each variable in the state vector\n",
    "F.jacobian(state)"
   ]
  },
  {
   "cell_type": "markdown",
   "metadata": {},
   "source": [
    "## Observations"
   ]
  },
  {
   "cell_type": "code",
   "execution_count": 9,
   "metadata": {},
   "outputs": [
    {
     "data": {
      "image/png": "[encoded data removed]",
      "text/latex": [
       "$\\displaystyle \\left[\\begin{matrix}r\\\\\\Theta\\end{matrix}\\right]$"
      ],
      "text/plain": [
       "⎡  r   ⎤\n",
       "⎢      ⎥\n",
       "⎣\\Theta⎦"
      ]
     },
     "execution_count": 9,
     "metadata": {},
     "output_type": "execute_result"
    }
   ],
   "source": [
    "# For observations, consider using sensors that operate on polar coordinates yielding radius and angle\n",
    "Z = Matrix([[rad],\n",
    "            [theta]])\n",
    "Z"
   ]
  },
  {
   "cell_type": "markdown",
   "metadata": {},
   "source": [
    "## Observation Matrix"
   ]
  },
  {
   "cell_type": "code",
   "execution_count": 10,
   "metadata": {},
   "outputs": [
    {
     "data": {
      "image/png": "[encoded data removed]",
      "text/latex": [
       "$\\displaystyle \\left[\\begin{matrix}\\sqrt{x^{2} + y^{2}} + 1.31136787147503\\\\\\operatorname{atan_{2}}{\\left(y,x \\right)} - 0.00025766518543466\\end{matrix}\\right]$"
      ],
      "text/plain": [
       "⎡    _________                    ⎤\n",
       "⎢   ╱  2    2                     ⎥\n",
       "⎢ ╲╱  x  + y   + 1.31136787147503 ⎥\n",
       "⎢                                 ⎥\n",
       "⎣atan2(y, x) - 0.00025766518543466⎦"
      ]
     },
     "execution_count": 10,
     "metadata": {},
     "output_type": "execute_result"
    }
   ],
   "source": [
    "# representing noises on the measured distance and direction\n",
    "var_dist = 2**2\n",
    "var_dir = (4 * np.pi/180) ** 2\n",
    "n1 = np.random.normal(0, var_dist)\n",
    "n2 = np.random.normal(0, var_dir)\n",
    "\n",
    "H = Matrix([[sqrt(x**2+y**2) + n1],\n",
    "            [atan2(y, x) + n2]])\n",
    "H"
   ]
  },
  {
   "cell_type": "markdown",
   "metadata": {},
   "source": [
    "## Jacobian of the Observation Matrix"
   ]
  },
  {
   "cell_type": "code",
   "execution_count": 11,
   "metadata": {},
   "outputs": [
    {
     "data": {
      "image/png": "[encoded data removed]",
      "text/latex": [
       "$\\displaystyle \\left[\\begin{matrix}\\frac{x}{\\sqrt{x^{2} + y^{2}}} & \\frac{y}{\\sqrt{x^{2} + y^{2}}} & 0 & 0\\\\- \\frac{y}{x^{2} + y^{2}} & \\frac{x}{x^{2} + y^{2}} & 0 & 0\\end{matrix}\\right]$"
      ],
      "text/plain": [
       "⎡     x             y            ⎤\n",
       "⎢────────────  ────────────  0  0⎥\n",
       "⎢   _________     _________      ⎥\n",
       "⎢  ╱  2    2     ╱  2    2       ⎥\n",
       "⎢╲╱  x  + y    ╲╱  x  + y        ⎥\n",
       "⎢                                ⎥\n",
       "⎢    -y             x            ⎥\n",
       "⎢  ───────       ───────     0  0⎥\n",
       "⎢   2    2        2    2         ⎥\n",
       "⎣  x  + y        x  + y          ⎦"
      ]
     },
     "execution_count": 11,
     "metadata": {},
     "output_type": "execute_result"
    }
   ],
   "source": [
    "# Point-wise linear approximation of the function f near the each variable in the state vector\n",
    "H.jacobian(state)"
   ]
  },
  {
   "cell_type": "markdown",
   "metadata": {},
   "source": [
    "## Process Noise Covariance Matrix"
   ]
  },
  {
   "cell_type": "code",
   "execution_count": 12,
   "metadata": {},
   "outputs": [
    {
     "data": {
      "image/png": "[encoded data removed]",
      "text/latex": [
       "$\\displaystyle \\left[\\begin{matrix}0 & 0 & 0 & 0\\\\0 & 0 & 0 & 0\\\\0 & 0 & 0 & 0\\\\0 & 0 & 0 & 0\\end{matrix}\\right]$"
      ],
      "text/plain": [
       "⎡0  0  0  0⎤\n",
       "⎢          ⎥\n",
       "⎢0  0  0  0⎥\n",
       "⎢          ⎥\n",
       "⎢0  0  0  0⎥\n",
       "⎢          ⎥\n",
       "⎣0  0  0  0⎦"
      ]
     },
     "execution_count": 12,
     "metadata": {},
     "output_type": "execute_result"
    }
   ],
   "source": [
    "Q = Matrix([[0, 0, 0, 0],\n",
    "            [0, 0, 0, 0],\n",
    "            [0, 0, 0, 0],\n",
    "            [0, 0, 0, 0]])\n",
    "Q"
   ]
  },
  {
   "cell_type": "markdown",
   "metadata": {},
   "source": [
    "## Measurement Noise Covariance Matrix"
   ]
  },
  {
   "cell_type": "code",
   "execution_count": 13,
   "metadata": {
    "scrolled": true
   },
   "outputs": [
    {
     "data": {
      "image/png": "[encoded data removed]",
      "text/latex": [
       "$\\displaystyle \\left[\\begin{matrix}4 & 0\\\\0 & 0.00487387871658734\\end{matrix}\\right]$"
      ],
      "text/plain": [
       "⎡4           0         ⎤\n",
       "⎢                      ⎥\n",
       "⎣0  0.00487387871658734⎦"
      ]
     },
     "execution_count": 13,
     "metadata": {},
     "output_type": "execute_result"
    }
   ],
   "source": [
    "R = Matrix([[var_dist, 0],\n",
    "            [0, var_dir]])\n",
    "R"
   ]
  },
  {
   "cell_type": "markdown",
   "metadata": {},
   "source": [
    "## Generate Measurements and Display Scenario"
   ]
  },
  {
   "cell_type": "code",
   "execution_count": 14,
   "metadata": {
    "scrolled": true
   },
   "outputs": [],
   "source": [
    "measurement_list_alltimes = []\n",
    "for t in range(0, simulation_duration, 1):\n",
    "    measurement_list_at_time = []\n",
    "    for idx, (pos, vel) in enumerate(zip(pos_list[1:], vel_list[1:])): #generate for meas. for actors\n",
    "        noise_r = np.random.normal(0, var_dist)\n",
    "        noise_theta = np.random.normal(0,var_dir)\n",
    "        \n",
    "        state = get_state(pos, vel, dt * t)\n",
    "        \n",
    "        r = math.sqrt(state[0,0]**2 + state[1,0]**2)\n",
    "        theta = math.atan2(state[1,0], state[0,0])\n",
    "        \n",
    "        meas_r = r + noise_r\n",
    "        meas_theta = theta + noise_theta\n",
    "        measurement_list_at_time.append(np.array([meas_r, meas_theta]))\n",
    "    \n",
    "    measurement_list_alltimes.append(measurement_list_at_time)\n",
    "\n",
    "def display_measurements(pos_list, vel_list, measurement_list_alltimes):\n",
    "    sns.set_style(\"white\")\n",
    "    my_dpi=96\n",
    "    camera = Camera(plt.figure(figsize=(480/my_dpi, 600/my_dpi), dpi=my_dpi))\n",
    "    cols = ['green', 'red', 'blue', 'black', 'orange']\n",
    "    for t in range(0, simulation_duration, 1):\n",
    "        plt.axvline(1, linestyle='--', color='grey')\n",
    "        plt.axvline(-1, linestyle='--', color='grey')\n",
    "        for idx, (pos, vel) in enumerate(zip(pos_list, vel_list)):\n",
    "            plt.scatter(true_states_alltimes[t][idx][1], \n",
    "                        true_states_alltimes[t][idx][0], \n",
    "                        color=cols[idx], alpha=0.5, edgecolors=\"grey\", linewidth=2)\n",
    "            if idx != 0: #not ego\n",
    "                meas_x = measurement_list_alltimes[t][idx-1][0] * np.cos(measurement_list_alltimes[t][idx-1][1])\n",
    "                meas_y = measurement_list_alltimes[t][idx-1][0] * np.sin(measurement_list_alltimes[t][idx-1][1])\n",
    "                plt.scatter(meas_y, meas_x, facecolors='none', edgecolors='r')\n",
    "\n",
    "        camera.snap()\n",
    "\n",
    "    anim = camera.animate(blit=True)\n",
    "    anim.save('measurements.mp4')"
   ]
  },
  {
   "cell_type": "code",
   "execution_count": 15,
   "metadata": {
    "scrolled": true
   },
   "outputs": [
    {
     "data": {
      "image/png": "[encoded data removed]",
      "text/plain": [
       "<Figure size 480x600 with 1 Axes>"
      ]
     },
     "metadata": {},
     "output_type": "display_data"
    }
   ],
   "source": [
    "display_measurements(pos_list, vel_list, measurement_list_alltimes)"
   ]
  },
  {
   "cell_type": "markdown",
   "metadata": {},
   "source": [
    "## Model Parameter Selection"
   ]
  },
  {
   "cell_type": "code",
   "execution_count": 16,
   "metadata": {},
   "outputs": [],
   "source": [
    "J_f_ekf = np.array([[1, dt, 0, 0],\n",
    "                   [0, 1, 0, 0],\n",
    "                   [0, 0, 1, dt],\n",
    "                   [0, 0, 0, 1]])\n",
    "\n",
    "Q_ekf = np.array([[(dt**4)*var_acc/4, 0, 0, 0],\n",
    "              [0, (dt**4)*var_acc/4, 0, 0],\n",
    "              [0, 0, (dt**2)*var_acc, 0],\n",
    "              [0, 0, 0, (dt**2)*var_acc]]) \n",
    "\n",
    "R_ekf = np.array([[var_dist, 0],\n",
    "              [0, var_dir]]) \n",
    "\n",
    "# The derivative of the state transition equations with respect to the dynamic noises u1 and u2\n",
    "df_da_ekf = np.array([[1, 0, 0, 0],\n",
    "                     [0, 1, 0, 0],\n",
    "                     [0, 0, 1, 0],\n",
    "                     [0, 0, 0, 1]])\n",
    "\n",
    "# The derivative of the observation equations with respect to the measurement noises\n",
    "dh_dn_ekf = np.array([[1, 0],\n",
    "                      [0, 1]])"
   ]
  },
  {
   "cell_type": "markdown",
   "metadata": {},
   "source": [
    "## EKF Tracker"
   ]
  },
  {
   "cell_type": "code",
   "execution_count": 17,
   "metadata": {},
   "outputs": [],
   "source": [
    "state_ekf_alltimes = [] \n",
    "P_ekf_alltimes = []  #P: error covariance\n",
    "K_ekf_alltimes = [] #K: kalman gain\n",
    "\n",
    "for t, measurement_at_time in enumerate(measurement_list_alltimes):\n",
    "    state_ekf_at_time = []\n",
    "    P_ekf_at_time = []\n",
    "    K_ekf_at_time = []\n",
    "        \n",
    "    for idx, measurements in enumerate(measurement_at_time):\n",
    "        # alloc memory \n",
    "        state_ekf = np.zeros((4, 1))\n",
    "               \n",
    "        if t == 0:\n",
    "            # provide measurements in polar coordinates to the vehicle wrt its coordinate frame\n",
    "            # car's x-axis is the y-axis in global coordinate frame and vice versa.\n",
    "            relative_r = measurements[0] \n",
    "            relative_theta = measurements[1] \n",
    "            relative_pos_x = relative_r * np.cos(relative_theta) + ego_positions[t][0][0]\n",
    "            relative_pos_y = relative_r * np.sin(relative_theta) + ego_positions[t][1][0]\n",
    "            \n",
    "            # initialize state and error covariance\n",
    "            state_ekf[0,0] = relative_pos_x\n",
    "            state_ekf[1,0] = relative_pos_y\n",
    "            state_ekf[2,0] = vel_egoCar\n",
    "            state_ekf[3,0] = 0\n",
    "                  \n",
    "            P_ekf = np.concatenate((dh_dn_ekf @ R_ekf @ dh_dn_ekf.T, np.array([[0,0],[0,0]])), axis=1)\n",
    "            P_ekf = np.concatenate((P_ekf,np.array([[0,0,1,0],[0,0,0,1]])), axis=0)\n",
    "        \n",
    "        # TIME UPDATE\n",
    "        if t != 0:\n",
    "            pos_estimate_x = state_ekf_alltimes[-1][idx][0,0]\n",
    "            pos_estimate_y = state_ekf_alltimes[-1][idx][1,0]\n",
    "            vel_estimate_x = state_ekf_alltimes[-1][idx][2,0]\n",
    "            vel_estimate_y = state_ekf_alltimes[-1][idx][3,0]\n",
    "            \n",
    "            # Apply state transition equations\n",
    "            state_ekf[0,0] = pos_estimate_x + vel_estimate_x * dt\n",
    "            state_ekf[1,0] = pos_estimate_y + vel_estimate_y * dt \n",
    "            state_ekf[2,0] = vel_estimate_x \n",
    "            state_ekf[3,0] = vel_estimate_y \n",
    "            \n",
    "            P_ekf = J_f_ekf @ P_ekf_alltimes[-1][idx] @ J_f_ekf.T + df_da_ekf * Q_ekf *df_da_ekf.T\n",
    "\n",
    "            # MEASUREMENT UPDATE\n",
    "            J_h_ekf = np.array([[state_ekf[0,0] / np.sqrt((state_ekf[0,0]**2 + state_ekf[1,0]**2)),\n",
    "                             state_ekf[1,0] / np.sqrt((state_ekf[0,0]**2 + state_ekf[1,0]**2)),0, 0], \n",
    "                            [-state_ekf[1,0] / (state_ekf[1,0]**2 + state_ekf[1,0]**2),\n",
    "                             state_ekf[0,0] / (state_ekf[1,0]**2 + state_ekf[1,0]**2), 0, 0]])\n",
    "            \n",
    "            K_ekf = (P_ekf @ J_h_ekf.T) @ \\\n",
    "                           inv(J_h_ekf @ P_ekf @ J_h_ekf.T + dh_dn_ekf @ R_ekf @ dh_dn_ekf.T)\n",
    "            state_ekf = state_ekf + K_ekf @ (np.array([[measurements[0]],[measurements[1]]]) - \\\n",
    "                            np.array([[np.sqrt(state_ekf[0,0]**2 + state_ekf[1,0]**2)],\n",
    "                                      [math.atan2(state_ekf[1,0], state_ekf[0,0])]]))\n",
    "            P_ekf = (np.identity(4) - (K_ekf @ J_h_ekf)) @ P_ekf\n",
    "            K_ekf_at_time.append(K_ekf)\n",
    "\n",
    "        state_ekf_at_time.append(state_ekf[:])\n",
    "        P_ekf_at_time.append(P_ekf)     \n",
    "        del state_ekf, P_ekf\n",
    "            \n",
    "    state_ekf_alltimes.append(state_ekf_at_time)\n",
    "    P_ekf_alltimes.append(P_ekf_at_time)  \n",
    "    K_ekf_alltimes.append(K_ekf_at_time)  \n",
    "    #set_trace()"
   ]
  },
  {
   "cell_type": "markdown",
   "metadata": {},
   "source": [
    "## Filter Performance"
   ]
  },
  {
   "cell_type": "code",
   "execution_count": 18,
   "metadata": {
    "scrolled": true
   },
   "outputs": [],
   "source": [
    "def display_estimations(pos_list, vel_list, measurement_list_alltimes, state_ekf_alltimes):\n",
    "    sns.set_style(\"white\")\n",
    "    my_dpi=96\n",
    "    camera = Camera(plt.figure(figsize=(480/my_dpi, 600/my_dpi), dpi=my_dpi))\n",
    "    cols = ['green', 'red', 'blue', 'black', 'orange']\n",
    "    for t in range(0, simulation_duration, 1):\n",
    "        plt.axvline(1, linestyle='--', color='grey')\n",
    "        plt.axvline(-1, linestyle='--', color='grey')\n",
    "        for idx, (pos, vel) in enumerate(zip(pos_list, vel_list)):\n",
    "            plt.scatter(true_states_alltimes[t][idx][1], \n",
    "                        true_states_alltimes[t][idx][0],\n",
    "                        color=cols[idx], alpha=0.5, edgecolors=\"grey\", linewidth=2)\n",
    "            if idx != 0: #not ego\n",
    "                meas_x = measurement_list_alltimes[t][idx-1][0] * np.cos(measurement_list_alltimes[t][idx-1][1])\n",
    "                meas_y = measurement_list_alltimes[t][idx-1][0] * np.sin(measurement_list_alltimes[t][idx-1][1])\n",
    "                plt.scatter(meas_y, meas_x, facecolors='none', edgecolors='r')\n",
    "\n",
    "                estimate_state_x = state_ekf_alltimes[t][idx-1][0] \n",
    "                estimate_state_y = state_ekf_alltimes[t][idx-1][1] \n",
    "                plt.scatter(estimate_state_y, estimate_state_x, facecolors='none', edgecolors='b')\n",
    "\n",
    "        camera.snap()\n",
    "\n",
    "    anim = camera.animate(blit=True)\n",
    "    anim.save('state_estimations.mp4')"
   ]
  },
  {
   "cell_type": "code",
   "execution_count": 19,
   "metadata": {
    "scrolled": true
   },
   "outputs": [
    {
     "data": {
      "image/png": "[encoded data removed]",
      "text/plain": [
       "<Figure size 480x600 with 1 Axes>"
      ]
     },
     "metadata": {},
     "output_type": "display_data"
    }
   ],
   "source": [
    "display_estimations(pos_list, vel_list, measurement_list_alltimes, state_ekf_alltimes)"
   ]
  },
  {
   "cell_type": "markdown",
   "metadata": {},
   "source": [
    "## Filter Performance - 2"
   ]
  },
  {
   "cell_type": "code",
   "execution_count": 20,
   "metadata": {},
   "outputs": [],
   "source": [
    "def get_mse():\n",
    "    position_mse_alltimes = []\n",
    "    velocity_mse_alltimes = []\n",
    "    pos_indices, vel_indices = [0, 2], [1, 3]\n",
    "    \n",
    "    # iter for each time step\n",
    "    for t, (ts, se) in enumerate(zip(true_states_alltimes, state_estimates_alltimes)):\n",
    "        position_mse_at_time = []\n",
    "        velocity_mse_at_time = []\n",
    "        # iter for each actor that exists in the scenario\n",
    "        for idx in range(len(se)):\n",
    "            position_mse_at_time.append(mse(list(ts[idx][pos_indices]), list(se[idx][pos_indices])))\n",
    "            velocity_mse_at_time.append(mse(list(ts[idx][vel_indices]), list(se[idx][vel_indices])))\n",
    "            \n",
    "        position_mse_alltimes.append(position_mse_at_time)\n",
    "        velocity_mse_alltimes.append(velocity_mse_at_time)\n",
    "    \n",
    "    return position_mse_alltimes, velocity_mse_alltimes\n",
    "  "
   ]
  },
  {
   "cell_type": "code",
   "execution_count": 21,
   "metadata": {},
   "outputs": [],
   "source": [
    "def plot_performance(position_mse_alltimes, velocity_mse_alltimes):\n",
    "    t = np.arange(0, len(position_mse_alltimes), 1)\n",
    "    fig, ((ax1, ax2)) = plt.subplots(2, 1, figsize=(32,24))\n",
    " \n",
    "    ax1.set_title('MSE Between True Positions and EKF Estimated Positions', fontsize=36)\n",
    "    ax1.plot(t, [item[0] for item in position_mse_alltimes], 'r', label='actor 1')\n",
    "    ax1.plot(t, [item[1] for item in position_mse_alltimes], 'b', label='actor 2')\n",
    "    ax1.plot(t, [item[2] for item in position_mse_alltimes], 'g', label='actor 3')\n",
    "    ax1.plot(t, [item[3] for item in position_mse_alltimes], 'black', label='actor 4')\n",
    "    legend = ax1.legend(loc='upper left', fontsize=24)\n",
    "    # Put a nicer background color on the legend.\n",
    "    legend.get_frame().set_facecolor('white')   \n",
    "    ax1.set_xticks(np.arange(min(t), max(t)+1, 10))\n",
    "    ax1.tick_params(axis='both', which='major', labelsize=30)\n",
    "\n",
    "    ax2.set_title('MSE Between True Velocities and EKF Estimated Velocities', fontsize=36)\n",
    "    ax2.plot(t, [item[0] for item in velocity_mse_alltimes], 'r', label='actor 1')\n",
    "    ax2.plot(t, [item[1] for item in velocity_mse_alltimes], 'b', label='actor 2')\n",
    "    ax2.plot(t, [item[2] for item in velocity_mse_alltimes], 'g', label='actor 3')\n",
    "    ax2.plot(t, [item[3] for item in velocity_mse_alltimes], 'black', label='actor 4')   \n",
    "    legend = ax2.legend(loc='upper left', fontsize=24)\n",
    "    # Put a nicer background color on the legend.\n",
    "    legend.get_frame().set_facecolor('white')    \n",
    "    ax2.set_xticks(np.arange(min(t), max(t)+1, 10))\n",
    "    ax2.tick_params(axis='both', which='major', labelsize=30)\n",
    "    ax2.set_xlabel('Time Step', fontsize=30)\n",
    "\n",
    "    plt.show()    "
   ]
  },
  {
   "cell_type": "code",
   "execution_count": 22,
   "metadata": {},
   "outputs": [
    {
     "ename": "NameError",
     "evalue": "name 'state_estimates_alltimes' is not defined",
     "output_type": "error",
     "traceback": [
      "\u001b[0;31m---------------------------------------------------------------------------\u001b[0m",
      "\u001b[0;31mNameError\u001b[0m                                 Traceback (most recent call last)",
      "\u001b[0;32m<ipython-input-22-845a08144472>\u001b[0m in \u001b[0;36m<module>\u001b[0;34m\u001b[0m\n\u001b[0;32m----> 1\u001b[0;31m \u001b[0mposition_mse_alltimes\u001b[0m\u001b[0;34m,\u001b[0m \u001b[0mvelocity_mse_alltimes\u001b[0m \u001b[0;34m=\u001b[0m \u001b[0mget_mse\u001b[0m\u001b[0;34m(\u001b[0m\u001b[0;34m)\u001b[0m\u001b[0;34m\u001b[0m\u001b[0;34m\u001b[0m\u001b[0m\n\u001b[0m\u001b[1;32m      2\u001b[0m \u001b[0mplot_performance\u001b[0m\u001b[0;34m(\u001b[0m\u001b[0mposition_mse_alltimes\u001b[0m\u001b[0;34m,\u001b[0m \u001b[0mvelocity_mse_alltimes\u001b[0m\u001b[0;34m)\u001b[0m\u001b[0;34m\u001b[0m\u001b[0;34m\u001b[0m\u001b[0m\n",
      "\u001b[0;32m<ipython-input-20-12ab9d55b87f>\u001b[0m in \u001b[0;36mget_mse\u001b[0;34m()\u001b[0m\n\u001b[1;32m      5\u001b[0m \u001b[0;34m\u001b[0m\u001b[0m\n\u001b[1;32m      6\u001b[0m     \u001b[0;31m# iter for each time step\u001b[0m\u001b[0;34m\u001b[0m\u001b[0;34m\u001b[0m\u001b[0;34m\u001b[0m\u001b[0m\n\u001b[0;32m----> 7\u001b[0;31m     \u001b[0;32mfor\u001b[0m \u001b[0mt\u001b[0m\u001b[0;34m,\u001b[0m \u001b[0;34m(\u001b[0m\u001b[0mts\u001b[0m\u001b[0;34m,\u001b[0m \u001b[0mse\u001b[0m\u001b[0;34m)\u001b[0m \u001b[0;32min\u001b[0m \u001b[0menumerate\u001b[0m\u001b[0;34m(\u001b[0m\u001b[0mzip\u001b[0m\u001b[0;34m(\u001b[0m\u001b[0mtrue_states_alltimes\u001b[0m\u001b[0;34m,\u001b[0m \u001b[0mstate_estimates_alltimes\u001b[0m\u001b[0;34m)\u001b[0m\u001b[0;34m)\u001b[0m\u001b[0;34m:\u001b[0m\u001b[0;34m\u001b[0m\u001b[0;34m\u001b[0m\u001b[0m\n\u001b[0m\u001b[1;32m      8\u001b[0m         \u001b[0mposition_mse_at_time\u001b[0m \u001b[0;34m=\u001b[0m \u001b[0;34m[\u001b[0m\u001b[0;34m]\u001b[0m\u001b[0;34m\u001b[0m\u001b[0;34m\u001b[0m\u001b[0m\n\u001b[1;32m      9\u001b[0m         \u001b[0mvelocity_mse_at_time\u001b[0m \u001b[0;34m=\u001b[0m \u001b[0;34m[\u001b[0m\u001b[0;34m]\u001b[0m\u001b[0;34m\u001b[0m\u001b[0;34m\u001b[0m\u001b[0m\n",
      "\u001b[0;31mNameError\u001b[0m: name 'state_estimates_alltimes' is not defined"
     ]
    }
   ],
   "source": [
    "position_mse_alltimes, velocity_mse_alltimes = get_mse()\n",
    "plot_performance(position_mse_alltimes, velocity_mse_alltimes)"
   ]
  },
  {
   "cell_type": "code",
   "execution_count": null,
   "metadata": {},
   "outputs": [],
   "source": []
  }
 ],
 "metadata": {
  "kernelspec": {
   "display_name": "Python 3",
   "language": "python",
   "name": "python3"
  },
  "language_info": {
   "codemirror_mode": {
    "name": "ipython",
    "version": 3
   },
   "file_extension": ".py",
   "mimetype": "text/x-python",
   "name": "python",
   "nbconvert_exporter": "python",
   "pygments_lexer": "ipython3",
   "version": "3.7.3"
  }
 },
 "nbformat": 4,
 "nbformat_minor": 2
}

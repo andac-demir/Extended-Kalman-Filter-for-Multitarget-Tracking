{
 "cells": [
  {
   "cell_type": "markdown",
   "metadata": {},
   "source": [
    "# Extended Kalman Filter Implementation for State Estimation"
   ]
  },
  {
   "cell_type": "code",
   "execution_count": 1,
   "metadata": {},
   "outputs": [],
   "source": [
    "%matplotlib inline"
   ]
  },
  {
   "cell_type": "code",
   "execution_count": 2,
   "metadata": {},
   "outputs": [],
   "source": [
    "import numpy as np\n",
    "from numpy.linalg import inv\n",
    "import matplotlib.pyplot as plt\n",
    "import seaborn as sns\n",
    "from celluloid import Camera\n",
    "from sympy import Symbol, symbols, Matrix, sqrt, atan2\n",
    "from sympy import init_printing\n",
    "import math\n",
    "init_printing(use_latex=True)"
   ]
  },
  {
   "cell_type": "markdown",
   "metadata": {},
   "source": [
    "## Visualize True States - Scenario Simulation"
   ]
  },
  {
   "cell_type": "code",
   "execution_count": 3,
   "metadata": {
    "scrolled": true
   },
   "outputs": [
    {
     "data": {
      "image/png": "[encoded data removed]",
      "text/plain": [
       "<Figure size 480x600 with 1 Axes>"
      ]
     },
     "metadata": {},
     "output_type": "display_data"
    }
   ],
   "source": [
    "# Define initial positions (x, y) in m:\n",
    "pos_egoCar = (0, 0)\n",
    "pos_actor1 = (-2, 90)\n",
    "pos_actor2 = (2, 60)\n",
    "pos_actor3 = (-2, -40)\n",
    "pos_actor4 = (0, -10)\n",
    "\n",
    "# Define the initial velocities (y-axis) in m/s:\n",
    "vel_egoCar = 20\n",
    "vel_actor1 = 25\n",
    "vel_actor2 = 15\n",
    "vel_actor3 = 35\n",
    "vel_actor4 = 15\n",
    "\n",
    "pos_list = [pos_egoCar, pos_actor1, pos_actor2, pos_actor3, pos_actor4]\n",
    "vel_list = [vel_egoCar, vel_actor1, vel_actor2, vel_actor3, vel_actor4]\n",
    "ego_positions = [] #position of the ego car in the entire simulation time frame\n",
    "simulation_duration = 96\n",
    "dt = 1/3\n",
    "\n",
    "def pos_at_time(initial_pos, vel, t):\n",
    "    '''\n",
    "    x = x_0 + v_i*t\n",
    "    '''\n",
    "    return(initial_pos[0], initial_pos[1] + vel * t)\n",
    "\n",
    "sns.set_style(\"white\")\n",
    "my_dpi=96\n",
    "camera = Camera(plt.figure(figsize=(480/my_dpi, 600/my_dpi), dpi=my_dpi))\n",
    "cols = ['green', 'red', 'blue', 'black', 'orange']\n",
    "\n",
    "for t in range(0, simulation_duration, 1):\n",
    "    plt.axvline(1, linestyle='--', color='grey')\n",
    "    plt.axvline(-1, linestyle='--', color='grey')\n",
    "    for idx, (pos, vel) in enumerate(zip(pos_list, vel_list)):\n",
    "        plt.scatter(pos_at_time(pos, vel, dt * t)[0], pos_at_time(pos, vel, dt * t)[1], color=cols[idx], \n",
    "                    alpha=0.5, edgecolors=\"grey\", linewidth=2)\n",
    "        if idx == 0:\n",
    "            ego_positions.append(np.array([pos_at_time(pos, vel, dt * t)[0], \n",
    "                                           pos_at_time(pos, vel, dt * t)[1]]))\n",
    "    camera.snap()\n",
    "    \n",
    "anim = camera.animate(blit=True)\n",
    "anim.save('true_states.mp4')"
   ]
  },
  {
   "cell_type": "markdown",
   "metadata": {},
   "source": [
    "## Dynamic Process and EKF Modeling"
   ]
  },
  {
   "cell_type": "code",
   "execution_count": 4,
   "metadata": {},
   "outputs": [],
   "source": [
    "# y-axis in the coordinate reference frame of the ego is the x-axis in scenario, and vice versa.\n",
    "x, y, rad, theta, time_step, vel_x, vel_y = symbols('x y r \\Theta T \\dot{x} \\dot{y}')\n",
    "\n",
    "# u1 and u2 are random samples drawn from N(0, var_{a}) representing an unknown acceleration.\n",
    "var_acc = 0.01\n",
    "u1 = np.random.normal(0, var_acc)\n",
    "u2 = np.random.normal(0, var_acc)\n",
    "\n",
    "F = Matrix([[x + vel_x*time_step],\n",
    "            [vel_x + u1],\n",
    "            [y + vel_y*time_step],\n",
    "            [vel_y + u2]])\n",
    "state = Matrix([x, vel_x, y, vel_y])"
   ]
  },
  {
   "cell_type": "markdown",
   "metadata": {},
   "source": [
    "## State"
   ]
  },
  {
   "cell_type": "code",
   "execution_count": 5,
   "metadata": {},
   "outputs": [
    {
     "data": {
      "image/png": "[encoded data removed]",
      "text/latex": [
       "$\\displaystyle \\left[\\begin{matrix}x\\\\\\dot{x}\\\\y\\\\\\dot{y}\\end{matrix}\\right]$"
      ],
      "text/plain": [
       "⎡   x   ⎤\n",
       "⎢       ⎥\n",
       "⎢\\dot{x}⎥\n",
       "⎢       ⎥\n",
       "⎢   y   ⎥\n",
       "⎢       ⎥\n",
       "⎣\\dot{y}⎦"
      ]
     },
     "execution_count": 5,
     "metadata": {},
     "output_type": "execute_result"
    }
   ],
   "source": [
    "state"
   ]
  },
  {
   "cell_type": "markdown",
   "metadata": {},
   "source": [
    "## State Transition Matrix"
   ]
  },
  {
   "cell_type": "code",
   "execution_count": 6,
   "metadata": {},
   "outputs": [
    {
     "data": {
      "image/png": "[encoded data removed]",
      "text/latex": [
       "$\\displaystyle \\left[\\begin{matrix}T \\dot{x} + x\\\\\\dot{x} - 0.0111579039090342\\\\T \\dot{y} + y\\\\\\dot{y} - 0.00407117564151947\\end{matrix}\\right]$"
      ],
      "text/plain": [
       "⎡        T⋅\\dot{x} + x        ⎤\n",
       "⎢                             ⎥\n",
       "⎢\\dot{x} - 0.0111579039090342 ⎥\n",
       "⎢                             ⎥\n",
       "⎢        T⋅\\dot{y} + y        ⎥\n",
       "⎢                             ⎥\n",
       "⎣\\dot{y} - 0.00407117564151947⎦"
      ]
     },
     "execution_count": 6,
     "metadata": {},
     "output_type": "execute_result"
    }
   ],
   "source": [
    "F"
   ]
  },
  {
   "cell_type": "markdown",
   "metadata": {},
   "source": [
    "## Jacobian of the State Transition Matrix"
   ]
  },
  {
   "cell_type": "code",
   "execution_count": 7,
   "metadata": {},
   "outputs": [
    {
     "data": {
      "image/png": "[encoded data removed]",
      "text/latex": [
       "$\\displaystyle \\left[\\begin{matrix}1 & T & 0 & 0\\\\0 & 1 & 0 & 0\\\\0 & 0 & 1 & T\\\\0 & 0 & 0 & 1\\end{matrix}\\right]$"
      ],
      "text/plain": [
       "⎡1  T  0  0⎤\n",
       "⎢          ⎥\n",
       "⎢0  1  0  0⎥\n",
       "⎢          ⎥\n",
       "⎢0  0  1  T⎥\n",
       "⎢          ⎥\n",
       "⎣0  0  0  1⎦"
      ]
     },
     "execution_count": 7,
     "metadata": {},
     "output_type": "execute_result"
    }
   ],
   "source": [
    "# Point-wise linear approximation of the function f near the each variable in the state vector\n",
    "F.jacobian(state)"
   ]
  },
  {
   "cell_type": "markdown",
   "metadata": {},
   "source": [
    "## Observations"
   ]
  },
  {
   "cell_type": "code",
   "execution_count": 8,
   "metadata": {},
   "outputs": [
    {
     "data": {
      "image/png": "[encoded data removed]",
      "text/latex": [
       "$\\displaystyle \\left[\\begin{matrix}r\\\\\\Theta\\end{matrix}\\right]$"
      ],
      "text/plain": [
       "⎡  r   ⎤\n",
       "⎢      ⎥\n",
       "⎣\\Theta⎦"
      ]
     },
     "execution_count": 8,
     "metadata": {},
     "output_type": "execute_result"
    }
   ],
   "source": [
    "# For observations, consider using sensors that operate on polar coordinates yielding radius and angle\n",
    "Z = Matrix([[rad],\n",
    "            [theta]])\n",
    "Z"
   ]
  },
  {
   "cell_type": "markdown",
   "metadata": {},
   "source": [
    "## Observation Matrix"
   ]
  },
  {
   "cell_type": "code",
   "execution_count": 9,
   "metadata": {},
   "outputs": [
    {
     "data": {
      "image/png": "[encoded data removed]",
      "text/latex": [
       "$\\displaystyle \\left[\\begin{matrix}\\sqrt{x^{2} + y^{2}} + 0.440143412472817\\\\\\operatorname{atan_{2}}{\\left(y,x \\right)} - 0.0782210600305272\\end{matrix}\\right]$"
      ],
      "text/plain": [
       "⎡   _________                    ⎤\n",
       "⎢  ╱  2    2                     ⎥\n",
       "⎢╲╱  x  + y   + 0.440143412472817⎥\n",
       "⎢                                ⎥\n",
       "⎣atan2(y, x) - 0.0782210600305272⎦"
      ]
     },
     "execution_count": 9,
     "metadata": {},
     "output_type": "execute_result"
    }
   ],
   "source": [
    "# representing noises on the measured distance and direction\n",
    "var_dist = 1\n",
    "var_dir = 0.1\n",
    "n1 = np.random.normal(0,var_dist)\n",
    "n2 = np.random.normal(0,var_dir)\n",
    "\n",
    "H = Matrix([[sqrt(x**2+y**2) + n1],\n",
    "            [atan2(y, x) + n2]])\n",
    "H"
   ]
  },
  {
   "cell_type": "markdown",
   "metadata": {},
   "source": [
    "## Jacobian of the Observation Matrix"
   ]
  },
  {
   "cell_type": "code",
   "execution_count": 10,
   "metadata": {},
   "outputs": [
    {
     "data": {
      "image/png": "[encoded data removed]",
      "text/latex": [
       "$\\displaystyle \\left[\\begin{matrix}\\frac{x}{\\sqrt{x^{2} + y^{2}}} & 0 & \\frac{y}{\\sqrt{x^{2} + y^{2}}} & 0\\\\- \\frac{y}{x^{2} + y^{2}} & 0 & \\frac{x}{x^{2} + y^{2}} & 0\\end{matrix}\\right]$"
      ],
      "text/plain": [
       "⎡     x                y         ⎤\n",
       "⎢────────────  0  ────────────  0⎥\n",
       "⎢   _________        _________   ⎥\n",
       "⎢  ╱  2    2        ╱  2    2    ⎥\n",
       "⎢╲╱  x  + y       ╲╱  x  + y     ⎥\n",
       "⎢                                ⎥\n",
       "⎢    -y                x         ⎥\n",
       "⎢  ───────     0    ───────     0⎥\n",
       "⎢   2    2           2    2      ⎥\n",
       "⎣  x  + y           x  + y       ⎦"
      ]
     },
     "execution_count": 10,
     "metadata": {},
     "output_type": "execute_result"
    }
   ],
   "source": [
    "# Point-wise linear approximation of the function f near the each variable in the state vector\n",
    "H.jacobian(state)"
   ]
  },
  {
   "cell_type": "markdown",
   "metadata": {},
   "source": [
    "## Process Noise Covariance Matrix"
   ]
  },
  {
   "cell_type": "code",
   "execution_count": 11,
   "metadata": {},
   "outputs": [
    {
     "data": {
      "image/png": "[encoded data removed]",
      "text/latex": [
       "$\\displaystyle \\left[\\begin{matrix}0 & 0 & 0 & 0\\\\0 & 0.01 & 0 & 0.001\\\\0 & 0 & 0 & 0\\\\0 & 0.001 & 0 & 0.01\\end{matrix}\\right]$"
      ],
      "text/plain": [
       "⎡0    0    0    0  ⎤\n",
       "⎢                  ⎥\n",
       "⎢0  0.01   0  0.001⎥\n",
       "⎢                  ⎥\n",
       "⎢0    0    0    0  ⎥\n",
       "⎢                  ⎥\n",
       "⎣0  0.001  0  0.01 ⎦"
      ]
     },
     "execution_count": 11,
     "metadata": {},
     "output_type": "execute_result"
    }
   ],
   "source": [
    "# small number allows for some covariance in practice\n",
    "small_num = 1e-3\n",
    "Q = Matrix([[0, 0, 0, 0],\n",
    "            [0, var_acc, 0, small_num],\n",
    "            [0, 0, 0, 0],\n",
    "            [0, small_num, 0, var_acc]])\n",
    "Q"
   ]
  },
  {
   "cell_type": "markdown",
   "metadata": {},
   "source": [
    "## Measurement Noise Covariance Matrix"
   ]
  },
  {
   "cell_type": "code",
   "execution_count": 12,
   "metadata": {},
   "outputs": [
    {
     "data": {
      "image/png": "[encoded data removed]",
      "text/latex": [
       "$\\displaystyle \\left[\\begin{matrix}1 & 0.001\\\\0.001 & 0.1\\end{matrix}\\right]$"
      ],
      "text/plain": [
       "⎡  1    0.001⎤\n",
       "⎢            ⎥\n",
       "⎣0.001   0.1 ⎦"
      ]
     },
     "execution_count": 12,
     "metadata": {},
     "output_type": "execute_result"
    }
   ],
   "source": [
    "R = Matrix([[var_dist, small_num],\n",
    "            [small_num, var_dir]])\n",
    "R"
   ]
  },
  {
   "cell_type": "markdown",
   "metadata": {},
   "source": [
    "## Generate Measurements and Display Scenario"
   ]
  },
  {
   "cell_type": "code",
   "execution_count": 13,
   "metadata": {
    "scrolled": true
   },
   "outputs": [
    {
     "data": {
      "image/png": "[encoded data removed]",
      "text/plain": [
       "<Figure size 480x600 with 1 Axes>"
      ]
     },
     "metadata": {},
     "output_type": "display_data"
    }
   ],
   "source": [
    "measurement_list_alltimes = []\n",
    "for t in range(0, simulation_duration, 1):\n",
    "    measurement_list_at_time = []\n",
    "    for idx, (pos, vel) in enumerate(zip(pos_list[1:], vel_list[1:])): #generate for meas. for actors\n",
    "        noise_x = np.random.normal(0,0.1)\n",
    "        noise_y = np.random.normal(0,2)\n",
    "        meas_x = pos_at_time(pos, vel, dt * t)[0] + noise_x\n",
    "        meas_y = pos_at_time(pos, vel, dt * t)[1] + noise_y\n",
    "        measurement_list_at_time.append(np.array([meas_x, meas_y]))\n",
    "    measurement_list_alltimes.append(measurement_list_at_time)\n",
    "\n",
    "sns.set_style(\"white\")\n",
    "my_dpi=96\n",
    "camera = Camera(plt.figure(figsize=(480/my_dpi, 600/my_dpi), dpi=my_dpi))\n",
    "for t in range(0, simulation_duration, 1):\n",
    "    plt.axvline(1, linestyle='--', color='grey')\n",
    "    plt.axvline(-1, linestyle='--', color='grey')\n",
    "    for idx, (pos, vel) in enumerate(zip(pos_list, vel_list)):\n",
    "        plt.scatter(pos_at_time(pos, vel, dt * t)[0], pos_at_time(pos, vel, dt * t)[1], color=cols[idx], \n",
    "                    alpha=0.5, edgecolors=\"grey\", linewidth=2)\n",
    "        if idx != 0: #not ego\n",
    "            meas_x = measurement_list_alltimes[t][idx-1][0]\n",
    "            meas_y = measurement_list_alltimes[t][idx-1][1]\n",
    "            plt.scatter(meas_x, meas_y, facecolors='none', edgecolors='r')\n",
    "    camera.snap()\n",
    "    \n",
    "anim = camera.animate(blit=True)\n",
    "anim.save('measurements.mp4')"
   ]
  },
  {
   "cell_type": "markdown",
   "metadata": {},
   "source": [
    "## Hyperparameter Selection"
   ]
  },
  {
   "cell_type": "code",
   "execution_count": 14,
   "metadata": {},
   "outputs": [],
   "source": [
    "J_f = np.array([[1, dt, 0, 0],\n",
    "                [0, 1, 0, 0],\n",
    "                [0, 0, 1, dt],\n",
    "                [0, 0, 0, 1]])\n",
    "\n",
    "Q = np.array([[0, 0, 0, 0],\n",
    "              [0, var_acc, 0, small_num],\n",
    "              [0, 0, 0, 0],\n",
    "              [0, small_num, 0, var_acc]]) \n",
    "\n",
    "R = np.array([[var_dist, small_num],\n",
    "              [small_num, var_dir]]) \n",
    "\n",
    "# The derivative of the state transition equations with respect to the dynamic noises u1 and u2\n",
    "df_da = np.array([[0, 0, 0, 0],\n",
    "                  [0, 1, 0, 0],\n",
    "                  [0, 0, 0, 0],\n",
    "                  [0, 0, 0, 1]])\n",
    "\n",
    "# The derivative of the observation equations with respect to the measurement noises\n",
    "dh_dn = np.array([[1, 0],\n",
    "                  [0, 1]])\n",
    "\n",
    "# initialize state and error covariance\n",
    "state = np.zeros((4,1))\n",
    "error_covariance = np.identity(4)*1000\n",
    "kalman_gain = np.zeros((4,2))"
   ]
  },
  {
   "cell_type": "markdown",
   "metadata": {},
   "source": [
    "## EKF Tracker"
   ]
  },
  {
   "cell_type": "code",
   "execution_count": 15,
   "metadata": {},
   "outputs": [
    {
     "name": "stderr",
     "output_type": "stream",
     "text": [
      "/home/andac/anaconda3/lib/python3.7/site-packages/ipykernel_launcher.py:37: RuntimeWarning: invalid value encountered in double_scalars\n",
      "/home/andac/anaconda3/lib/python3.7/site-packages/ipykernel_launcher.py:38: RuntimeWarning: invalid value encountered in double_scalars\n"
     ]
    }
   ],
   "source": [
    "state_estimates_alltimes = [] \n",
    "error_covariance_alltimes = []\n",
    "kalman_gain_alltimes = []\n",
    "\n",
    "for t, measurement_at_time in enumerate(measurement_list_alltimes):\n",
    "    state_estimates_at_time = []\n",
    "    error_covariance_at_time = []\n",
    "    kalman_gain_at_time = []\n",
    "    for idx, measurements in enumerate(measurement_at_time):\n",
    "        # provide measurements in polar coordinates to the vehicle wrt its coordinate frame\n",
    "        # car's x-axis is the y-axis in global coordinate frame and vice versa.\n",
    "        relative_pos_x = measurements[1] - ego_positions[t][1]\n",
    "        relative_pos_y = measurements[0] - ego_positions[t][0]\n",
    "        rad = math.sqrt(relative_pos_x**2 + relative_pos_y**2)\n",
    "        theta = math.atan2(relative_pos_y, relative_pos_x)\n",
    "        \n",
    "        # TIME UPDATE\n",
    "        if t != 0:\n",
    "            pos_estimate_x = state_estimates_alltimes[-1][idx][0,0]\n",
    "            vel_estimate_x = state_estimates_alltimes[-1][idx][1,0]\n",
    "            pos_estimate_y = state_estimates_alltimes[-1][idx][2,0]\n",
    "            vel_estimate_y = state_estimates_alltimes[-1][idx][3,0]\n",
    "            \n",
    "            # Apply state transition equations\n",
    "            u1 = np.random.normal(0, var_acc)\n",
    "            u2 = np.random.normal(0, var_acc)\n",
    "            state[0,0] = pos_estimate_x + vel_estimate_x * dt\n",
    "            state[1,0] = vel_estimate_x + u1\n",
    "            state[2,0] = pos_estimate_y + vel_estimate_y * dt\n",
    "            state[3,0] = vel_estimate_y + u2\n",
    "            \n",
    "            error_covariance = J_f @ error_covariance_alltimes[-1][idx] @ J_f.T + df_da * Q *df_da.T\n",
    "\n",
    "            # MEASUREMENT UPDATE\n",
    "            J_h = np.array([[state[0,0] * np.sqrt((state[0,0]**2 + state[2,0]**2)), 0,\n",
    "                             state[2,0] * np.sqrt((state[0,0]**2 + state[2,0]**2)), 0], \n",
    "                            [-state[2,0] / (state[0,0]**2 + state[2,0]**2), 0,\n",
    "                             state[0,0] / (state[0,0]**2 + state[2,0]**2), 0]])\n",
    "            \n",
    "            kalman_gain = (error_covariance @ J_h.T) @ \\\n",
    "                           inv(J_h @ error_covariance @ J_h.T + dh_dn @ R @ dh_dn.T)\n",
    "            n1 = np.random.normal(0, var_dist)\n",
    "            n2 = np.random.normal(0, var_dir)\n",
    "            state = state + kalman_gain @ (np.array([[rad],[theta]]) - \\\n",
    "                            np.array([[np.sqrt(state[0,0]**2 + state[2,0]**2) + n1],\n",
    "                                      [math.atan2(state[2,0], state[0,0]) + n2]]))\n",
    "            error_covariance = (np.identity(4) - (kalman_gain @ J_h)) @ error_covariance\n",
    "            \n",
    "        state_estimates_at_time.append(state)\n",
    "        error_covariance_at_time.append(error_covariance)\n",
    "        kalman_gain_at_time.append(kalman_gain)\n",
    "    \n",
    "    state_estimates_alltimes.append(state_estimates_at_time)\n",
    "    error_covariance_alltimes.append(error_covariance_at_time)  \n",
    "    kalman_gain_alltimes.append(kalman_gain_at_time)  "
   ]
  },
  {
   "cell_type": "markdown",
   "metadata": {},
   "source": [
    "## Filter Performance"
   ]
  },
  {
   "cell_type": "code",
   "execution_count": 16,
   "metadata": {
    "scrolled": true
   },
   "outputs": [
    {
     "data": {
      "image/png": "[encoded data removed]",
      "text/plain": [
       "<Figure size 480x600 with 1 Axes>"
      ]
     },
     "metadata": {},
     "output_type": "display_data"
    }
   ],
   "source": [
    "sns.set_style(\"white\")\n",
    "my_dpi=96\n",
    "camera = Camera(plt.figure(figsize=(480/my_dpi, 600/my_dpi), dpi=my_dpi))\n",
    "for t in range(0, simulation_duration, 1):\n",
    "    plt.axvline(1, linestyle='--', color='grey')\n",
    "    plt.axvline(-1, linestyle='--', color='grey')\n",
    "    for idx, (pos, vel) in enumerate(zip(pos_list, vel_list)):\n",
    "        plt.scatter(pos_at_time(pos, vel, dt * t)[0], pos_at_time(pos, vel, dt * t)[1], color=cols[idx], \n",
    "                    alpha=0.5, edgecolors=\"grey\", linewidth=2)\n",
    "        if idx != 0: #not ego\n",
    "            meas_x = measurement_list_alltimes[t][idx-1][0]\n",
    "            meas_y = measurement_list_alltimes[t][idx-1][1]\n",
    "            plt.scatter(meas_x, meas_y, facecolors='none', edgecolors='r')\n",
    "            \n",
    "            # add the position of the ego -> revert to the common coordinate frame\n",
    "            estimate_state_x = state_estimates_alltimes[t][idx-1][2] + ego_positions[t][0]\n",
    "            estimate_state_y = state_estimates_alltimes[t][idx-1][0] + ego_positions[t][1]\n",
    "            plt.scatter(estimate_state_x, estimate_state_y, facecolors='none', edgecolors='b')\n",
    "    \n",
    "    camera.snap()\n",
    "    \n",
    "anim = camera.animate(blit=True)\n",
    "anim.save('state_estimations.mp4')"
   ]
  },
  {
   "cell_type": "code",
   "execution_count": null,
   "metadata": {},
   "outputs": [],
   "source": []
  }
 ],
 "metadata": {
  "kernelspec": {
   "display_name": "Python 3",
   "language": "python",
   "name": "python3"
  },
  "language_info": {
   "codemirror_mode": {
    "name": "ipython",
    "version": 3
   },
   "file_extension": ".py",
   "mimetype": "text/x-python",
   "name": "python",
   "nbconvert_exporter": "python",
   "pygments_lexer": "ipython3",
   "version": "3.7.3"
  }
 },
 "nbformat": 4,
 "nbformat_minor": 2
}
